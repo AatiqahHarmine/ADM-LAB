{
  "nbformat": 4,
  "nbformat_minor": 0,
  "metadata": {
    "colab": {
      "provenance": [],
      "authorship_tag": "ABX9TyMggYyRKZUTnYjDGdTxc86i",
      "include_colab_link": true
    },
    "kernelspec": {
      "name": "python3",
      "display_name": "Python 3"
    },
    "language_info": {
      "name": "python"
    }
  },
  "cells": [
    {
      "cell_type": "markdown",
      "metadata": {
        "id": "view-in-github",
        "colab_type": "text"
      },
      "source": [
        "<a href=\"https://colab.research.google.com/github/AatiqahHarmine/23CSBTB30/blob/main/Assignment4.ipynb\" target=\"_parent\"><img src=\"https://colab.research.google.com/assets/colab-badge.svg\" alt=\"Open In Colab\"/></a>"
      ]
    },
    {
      "cell_type": "code",
      "execution_count": 6,
      "metadata": {
        "id": "ZL8EXALoXRrJ"
      },
      "outputs": [],
      "source": [
        "import pandas as pd\n",
        "df = pd.read_csv('customer_sales_data.csv')"
      ]
    },
    {
      "cell_type": "code",
      "source": [
        "df = pd.get_dummies(df, columns=['Product_Category', 'Region'])\n",
        "df['Customer_Gender'] = df['Customer_Gender'].map({'Male': 1, 'Female': 2})"
      ],
      "metadata": {
        "id": "Kl4yBIBvX-9k"
      },
      "execution_count": 7,
      "outputs": []
    },
    {
      "cell_type": "code",
      "source": [
        "df['Sales_Profit'] = df['Sales_Amount'] * 0.25"
      ],
      "metadata": {
        "id": "tDG8T_hvYGyZ"
      },
      "execution_count": 3,
      "outputs": []
    },
    {
      "cell_type": "code",
      "source": [
        "product_categories = [col for col in df.columns if col.startswith('Product_Category')]\n",
        "product_category_sales = df.groupby(product_categories)['Sales_Amount'].sum().reset_index()\n",
        "product_category_avg_quantity = df.groupby(product_categories)['Quantity_Sold'].mean().reset_index()"
      ],
      "metadata": {
        "id": "QrBecrr_YPPi"
      },
      "execution_count": 15,
      "outputs": []
    },
    {
      "cell_type": "code",
      "source": [
        "regions = [col for col in df.columns if col.startswith('Region')]\n",
        "pivot_table_sales = pd.pivot_table(df, values='Sales_Amount', index=regions, columns=product_categories, aggfunc='sum')"
      ],
      "metadata": {
        "id": "X78LX8ybZUox"
      },
      "execution_count": 16,
      "outputs": []
    },
    {
      "cell_type": "code",
      "source": [
        "print(\"Product Category Sales:\")\n",
        "print(product_category_sales)\n",
        "\n",
        "print(\"\\nProduct Category Average Quantity:\")\n",
        "print(product_category_avg_quantity)\n",
        "\n",
        "print(\"\\nPivot Table Sales:\")\n",
        "print(pivot_table_sales)"
      ],
      "metadata": {
        "colab": {
          "base_uri": "https://localhost:8080/"
        },
        "id": "bKEqvPkfZiMn",
        "outputId": "24620ef2-ba6b-4d1a-8ea9-95b5f8537eac"
      },
      "execution_count": 17,
      "outputs": [
        {
          "output_type": "stream",
          "name": "stdout",
          "text": [
            "Product Category Sales:\n",
            "   Product_Category_Clothing  Product_Category_Electronics  \\\n",
            "0                      False                         False   \n",
            "1                      False                          True   \n",
            "2                       True                         False   \n",
            "\n",
            "   Product_Category_Home Appliances  Sales_Amount  \n",
            "0                              True      17699.09  \n",
            "1                             False       8404.22  \n",
            "2                             False      14830.58  \n",
            "\n",
            "Product Category Average Quantity:\n",
            "   Product_Category_Clothing  Product_Category_Electronics  \\\n",
            "0                      False                         False   \n",
            "1                      False                          True   \n",
            "2                       True                         False   \n",
            "\n",
            "   Product_Category_Home Appliances  Quantity_Sold  \n",
            "0                              True       5.441860  \n",
            "1                             False       6.428571  \n",
            "2                             False       5.222222  \n",
            "\n",
            "Pivot Table Sales:\n",
            "Product_Category_Clothing                            False             True \n",
            "Product_Category_Electronics                         False    True     False\n",
            "Product_Category_Home Appliances                     True     False    False\n",
            "Region_East Region_North Region_South Region_West                           \n",
            "False       False        False        True         2381.61  3005.48  3035.27\n",
            "                         True         False        1825.88  2660.56  5225.84\n",
            "            True         False        False        6842.64  1334.80  3196.94\n",
            "True        False        False        False        6648.96  1403.38  3372.53\n"
          ]
        }
      ]
    }
  ]
}