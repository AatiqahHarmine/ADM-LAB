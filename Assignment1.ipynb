{
  "nbformat": 4,
  "nbformat_minor": 0,
  "metadata": {
    "colab": {
      "provenance": [],
      "authorship_tag": "ABX9TyPq7898CIaRZ0a8469i5Wsj",
      "include_colab_link": true
    },
    "kernelspec": {
      "name": "python3",
      "display_name": "Python 3"
    },
    "language_info": {
      "name": "python"
    }
  },
  "cells": [
    {
      "cell_type": "markdown",
      "metadata": {
        "id": "view-in-github",
        "colab_type": "text"
      },
      "source": [
        "<a href=\"https://colab.research.google.com/github/AatiqahHarmine/23CSBTB30/blob/main/Assignment1.ipynb\" target=\"_parent\"><img src=\"https://colab.research.google.com/assets/colab-badge.svg\" alt=\"Open In Colab\"/></a>"
      ]
    },
    {
      "cell_type": "code",
      "execution_count": 16,
      "metadata": {
        "colab": {
          "base_uri": "https://localhost:8080/"
        },
        "id": "Ixo3okYxN8F8",
        "outputId": "c74b28dc-f6ed-4e94-fbe7-a60d41a59e5c"
      },
      "outputs": [
        {
          "output_type": "stream",
          "name": "stdout",
          "text": [
            "Original Dataset:\n",
            "   Employee_ID   Age    Salary  Job_Satisfaction  Work_Hours_Per_Week\n",
            "0         1001  50.0  108953.0               9.0                   36\n",
            "1         1002  36.0   82995.0               8.0                   59\n",
            "2         1003  29.0   70757.0               2.0                   30\n",
            "3         1004  42.0   39692.0               1.0                   30\n",
            "4         1005  40.0   75758.0               7.0                   54\n"
          ]
        }
      ],
      "source": [
        "import pandas as pd\n",
        "from sklearn.preprocessing import MinMaxScaler, StandardScaler\n",
        "df = pd.read_csv('employee_data.csv')\n",
        "print(\"Original Dataset:\")\n",
        "print(df.head())"
      ]
    },
    {
      "cell_type": "code",
      "source": [
        "df['Age'] = df['Age'].fillna(df['Age'].mean())\n",
        "df['Salary'] = df['Salary'].fillna(df['Salary'].mean())"
      ],
      "metadata": {
        "id": "0gP_JxcrPJUn"
      },
      "execution_count": 17,
      "outputs": []
    },
    {
      "cell_type": "code",
      "source": [
        "scaler = MinMaxScaler()\n",
        "df[['Age', 'Salary']] = scaler.fit_transform(df[['Age', 'Salary']])"
      ],
      "metadata": {
        "id": "_yHWm3YYPNyz"
      },
      "execution_count": 18,
      "outputs": []
    },
    {
      "cell_type": "code",
      "source": [
        "df['Age_manual'] = (df['Age'] - df['Age'].min()) / (df['Age'].max() - df['Age'].min())\n",
        "df['Salary_manual'] = (df['Salary'] - df['Salary'].min()) / (df['Salary'].max() - df['Salary'].min())"
      ],
      "metadata": {
        "id": "EY0nBd-6PY5T"
      },
      "execution_count": 19,
      "outputs": []
    },
    {
      "cell_type": "code",
      "source": [
        "std_scaler = StandardScaler()\n",
        "df[['Job_Satisfaction', 'Work_Hours_Per_Week']] = std_scaler.fit_transform(df[['Job_Satisfaction', 'Work_Hours_Per_Week']])"
      ],
      "metadata": {
        "id": "_g_ysHqnPclH"
      },
      "execution_count": 20,
      "outputs": []
    },
    {
      "cell_type": "code",
      "source": [
        "df['Job_Satisfaction_manual'] = (df['Job_Satisfaction'] - df['Job_Satisfaction'].mean()) / df['Job_Satisfaction'].std()\n",
        "df['Work_Hours_Per_Week_manual'] = (df['Work_Hours_Per_Week'] - df['Work_Hours_Per_Week'].mean()) / df['Work_Hours_Per_Week'].std()"
      ],
      "metadata": {
        "id": "xHyMJhgRPeg_"
      },
      "execution_count": 21,
      "outputs": []
    },
    {
      "cell_type": "code",
      "source": [
        "print(\"\\nPreprocessed Dataset:\")\n",
        "print(df.head())"
      ],
      "metadata": {
        "colab": {
          "base_uri": "https://localhost:8080/"
        },
        "id": "tTzYKnHOPnf8",
        "outputId": "fc533a4a-ee5f-470c-efb5-1d1aae716cb7"
      },
      "execution_count": 22,
      "outputs": [
        {
          "output_type": "stream",
          "name": "stdout",
          "text": [
            "\n",
            "Preprocessed Dataset:\n",
            "   Employee_ID       Age    Salary  Job_Satisfaction  Work_Hours_Per_Week  \\\n",
            "0         1001  0.750000  0.877708          1.281519            -0.905969   \n",
            "1         1002  0.361111  0.585375          0.910064             1.483629   \n",
            "2         1003  0.166667  0.447554         -1.318664            -1.529343   \n",
            "3         1004  0.527778  0.097707         -1.690119            -1.529343   \n",
            "4         1005  0.472222  0.503874          0.538609             0.964151   \n",
            "\n",
            "   Age_manual  Salary_manual  Job_Satisfaction_manual  \\\n",
            "0    0.750000       0.877708                 1.265398   \n",
            "1    0.361111       0.585375                 0.898616   \n",
            "2    0.166667       0.447554                -1.302077   \n",
            "3    0.527778       0.097707                -1.668859   \n",
            "4    0.472222       0.503874                 0.531834   \n",
            "\n",
            "   Work_Hours_Per_Week_manual  \n",
            "0                   -0.896864  \n",
            "1                    1.468717  \n",
            "2                   -1.513972  \n",
            "3                   -1.513972  \n",
            "4                    0.954461  \n"
          ]
        }
      ]
    }
  ]
}